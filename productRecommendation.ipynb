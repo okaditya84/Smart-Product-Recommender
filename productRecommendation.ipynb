{
 "cells": [
  {
   "cell_type": "markdown",
   "metadata": {},
   "source": [
    "## This file contains the final code for product recommendation"
   ]
  },
  {
   "cell_type": "code",
   "execution_count": 19,
   "metadata": {},
   "outputs": [
    {
     "name": "stdout",
     "output_type": "stream",
     "text": [
      "Recommendations for 'Veet  Hair Removal CrmNormal30GM(99*144)':\n",
      "1. vivel aloe vera soap b4g1 (110*36) (Category: Bath and Body, Avg Price: ₹70.62, Frequency: 2)\n",
      "2. odomos 100 gm cream vitamin-e(110*36) (Category: Skin Care, Avg Price: ₹59.86, Frequency: 2)\n",
      "3. odonil  airfreshner 48gm po4(192*48) (Category: Household Supplies, Avg Price: ₹79.06, Frequency: 1)\n",
      "4. gulcond plain 450gm+50gm(135*36) (Category: Juices, Avg Price: ₹77.10, Frequency: 1)\n",
      "5. nan (Category: nan, Avg Price: ₹nan, Frequency: 16)\n"
     ]
    }
   ],
   "source": [
    "import pandas as pd\n",
    "import numpy as np\n",
    "from collections import defaultdict\n",
    "\n",
    "# Load Data (Replace paths with actual file paths)\n",
    "sales_df = pd.read_csv('SALE DATA.csv', skipinitialspace=True)\n",
    "items_df = pd.read_excel('CATEGORIES DATA.xlsx')\n",
    "\n",
    "# Preprocess Product Names for Consistency\n",
    "def clean_name(name):\n",
    "    return name.strip().lower()\n",
    "\n",
    "sales_df['Product Name'] = sales_df['Product Name'].apply(clean_name)\n",
    "items_df['Item'] = items_df['Item'].apply(clean_name)\n",
    "\n",
    "# Merge Sales Data with Categories\n",
    "sales_df = sales_df.merge(\n",
    "    items_df[['Item', 'Category']],\n",
    "    left_on='Product Name',\n",
    "    right_on='Item',\n",
    "    how='left'\n",
    ").drop(columns=['Item'])\n",
    "\n",
    "# Calculate Average Price per Product\n",
    "avg_price = sales_df.groupby('Product Name')['Price'].mean().reset_index()\n",
    "avg_price.columns = ['Product Name', 'AvgPrice']\n",
    "\n",
    "# Group Items by Cart (VchNo)\n",
    "carts = sales_df.groupby('VchNo')['Product Name'].apply(list).reset_index()\n",
    "\n",
    "# Build Co-occurrence Matrix\n",
    "co_occurrence = defaultdict(lambda: defaultdict(int))\n",
    "for cart in carts['Product Name']:\n",
    "    for i in range(len(cart)):\n",
    "        for j in range(i+1, len(cart)):\n",
    "            product_a = cart[i]\n",
    "            product_b = cart[j]\n",
    "            co_occurrence[product_a][product_b] += 1\n",
    "            co_occurrence[product_b][product_a] += 1\n",
    "\n",
    "# Precompute Product Categories and Prices\n",
    "product_category = sales_df.dropna(subset=['Category']).set_index('Product Name')['Category'].to_dict()\n",
    "product_avg_price = avg_price.set_index('Product Name')['AvgPrice'].to_dict()\n",
    "\n",
    "# Recommendation Logic\n",
    "def recommend_products(input_product, top_n=5, price_range=0.2):\n",
    "    input_product = clean_name(input_product)\n",
    "    \n",
    "    if input_product not in product_category or input_product not in co_occurrence:\n",
    "        return []\n",
    "    \n",
    "    # Get input product details\n",
    "    input_category = product_category[input_product]\n",
    "    input_avg_price = product_avg_price.get(input_product, 0)\n",
    "    price_low = input_avg_price * (1 - price_range)\n",
    "    price_high = input_avg_price * (1 + price_range)\n",
    "    \n",
    "    # Step 1: Get co-occurring products\n",
    "    candidates = co_occurrence[input_product]\n",
    "    candidate_df = pd.DataFrame({\n",
    "        'Product': list(candidates.keys()),\n",
    "        'Frequency': list(candidates.values())\n",
    "    })\n",
    "    \n",
    "    # Add category and price\n",
    "    candidate_df['Category'] = candidate_df['Product'].map(product_category)\n",
    "    candidate_df['AvgPrice'] = candidate_df['Product'].map(product_avg_price)\n",
    "    candidate_df = candidate_df.dropna()\n",
    "    \n",
    "    # Step 2: Filter by category and price\n",
    "    same_category = candidate_df[\n",
    "        (candidate_df['Category'] == input_category) &\n",
    "        (candidate_df['AvgPrice'].between(price_low, price_high))\n",
    "    ].sort_values('Frequency', ascending=False)\n",
    "    \n",
    "    # Step 3: Fallback 1: Same category, any price\n",
    "    if len(same_category) < top_n:\n",
    "        same_category_fallback = candidate_df[\n",
    "            (candidate_df['Category'] == input_category)\n",
    "        ].sort_values('Frequency', ascending=False)\n",
    "        same_category = pd.concat([same_category, same_category_fallback]).drop_duplicates()\n",
    "    \n",
    "    # Step 4: Fallback 2: Any category, similar price\n",
    "    if len(same_category) < top_n:\n",
    "        price_filtered = candidate_df[\n",
    "            candidate_df['AvgPrice'].between(price_low, price_high)\n",
    "        ].sort_values('Frequency', ascending=False)\n",
    "        same_category = pd.concat([same_category, price_filtered]).drop_duplicates()\n",
    "    \n",
    "    # Step 5: Fallback 3: Top in category\n",
    "    if len(same_category) < top_n:\n",
    "        top_category = sales_df[sales_df['Category'] == input_category]\n",
    "        top_products = top_category.groupby('Product Name').size().reset_index(name='Frequency')\n",
    "        top_products = top_products[top_products['Product Name'] != input_product]\n",
    "        same_category = pd.concat([same_category, top_products]).drop_duplicates()\n",
    "    \n",
    "    # Finalize and return top N\n",
    "    recommendations = same_category.head(top_n)\n",
    "    return recommendations[['Product', 'Category', 'AvgPrice', 'Frequency']].to_dict('records')\n",
    "\n",
    "# Example Usage\n",
    "input_product = \"Veet  Hair Removal CrmNormal30GM(99*144)\"\n",
    "recommendations = recommend_products(input_product)\n",
    "print(f\"Recommendations for '{input_product}':\")\n",
    "for idx, rec in enumerate(recommendations, 1):\n",
    "    print(f\"{idx}. {rec['Product']} (Category: {rec['Category']}, Avg Price: ₹{rec['AvgPrice']:.2f}, Frequency: {rec['Frequency']})\")"
   ]
  },
  {
   "cell_type": "markdown",
   "metadata": {},
   "source": [
    "## Testing the above recommender with different test cases"
   ]
  },
  {
   "cell_type": "code",
   "execution_count": 16,
   "metadata": {},
   "outputs": [
    {
     "name": "stdout",
     "output_type": "stream",
     "text": [
      "Recommendations for 'Dabur Red Paste 300Gm Offer(206*24)':\n",
      "1. dabur red paste 37g offer (20*144) (Category: Oral Care, Avg Price: ₹12.99, Frequency: 5)\n",
      "2. dabur red paste 100g  offer (70*72) (Category: Oral Care, Avg Price: ₹44.55, Frequency: 4)\n",
      "3. dabur red paste 100g (70*72) (Category: Oral Care, Avg Price: ₹43.94, Frequency: 1)\n",
      "4. vivel aloe vera soap b4g1 (110*36) (Category: Bath and Body, Avg Price: ₹70.62, Frequency: 21)\n",
      "5. odonil  airfreshner 48gm po4(192*48) (Category: Household Supplies, Avg Price: ₹79.06, Frequency: 8)\n"
     ]
    }
   ],
   "source": [
    "input_product = \"Dabur Red Paste 300Gm Offer(206*24)\"\n",
    "recommendations = recommend_products(input_product)\n",
    "print(f\"Recommendations for '{input_product}':\")\n",
    "for idx, rec in enumerate(recommendations, 1):\n",
    "    print(f\"{idx}. {rec['Product']} (Category: {rec['Category']}, Avg Price: ₹{rec['AvgPrice']:.2f}, Frequency: {rec['Frequency']})\")\n"
   ]
  },
  {
   "cell_type": "code",
   "execution_count": 18,
   "metadata": {},
   "outputs": [
    {
     "name": "stdout",
     "output_type": "stream",
     "text": [
      "Recommendations for 'Lux White FlawlessGlow (PO4)41Gm(40*54)':\n",
      "1. lux pink  radiant glow  (po4)41gm(40*54) (Category: Beauty and Cosmetics, Avg Price: ₹28.46, Frequency: 4)\n",
      "2. livon serum 2 ml(4*480) (Category: Beauty and Cosmetics, Avg Price: ₹2.07, Frequency: 6)\n",
      "3. lifebuoy strong red (po4) 44g(40*54 (Category: Bath and Body, Avg Price: ₹28.45, Frequency: 34)\n",
      "4. surf excel bar 250gm(38*60) (Category: Laundry Supplies, Avg Price: ₹27.50, Frequency: 4)\n",
      "5. parachute coconut oil 100ml ej( 44*180) (Category: Skin Care, Avg Price: ₹31.88, Frequency: 2)\n"
     ]
    }
   ],
   "source": [
    "input_product = \"Lux White FlawlessGlow (PO4)41Gm(40*54)\"\n",
    "recommendations = recommend_products(input_product)\n",
    "print(f\"Recommendations for '{input_product}':\")\n",
    "for idx, rec in enumerate(recommendations, 1):\n",
    "    print(f\"{idx}. {rec['Product']} (Category: {rec['Category']}, Avg Price: ₹{rec['AvgPrice']:.2f}, Frequency: {rec['Frequency']})\")"
   ]
  },
  {
   "cell_type": "code",
   "execution_count": null,
   "metadata": {},
   "outputs": [],
   "source": []
  }
 ],
 "metadata": {
  "kernelspec": {
   "display_name": "Python 3",
   "language": "python",
   "name": "python3"
  },
  "language_info": {
   "codemirror_mode": {
    "name": "ipython",
    "version": 3
   },
   "file_extension": ".py",
   "mimetype": "text/x-python",
   "name": "python",
   "nbconvert_exporter": "python",
   "pygments_lexer": "ipython3",
   "version": "3.11.6"
  }
 },
 "nbformat": 4,
 "nbformat_minor": 2
}
